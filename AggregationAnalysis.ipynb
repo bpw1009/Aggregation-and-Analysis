{
 "cells": [
  {
   "cell_type": "markdown",
   "metadata": {},
   "source": [
    "<p>Name: Benjamin Weckerle</p>\n",
    "<p>Email: bpw1009@wildcats.unh.edu</p>\n"
   ]
  },
  {
   "cell_type": "code",
   "execution_count": 1,
   "metadata": {},
   "outputs": [],
   "source": [
    "# Import modules\n",
    "import pandas as pd\n",
    "import matplotlib.pyplot as plt\n",
    "import matplotlib.dates as mdates\n",
    "%matplotlib inline\n",
    "import numpy as np\n",
    "import scipy\n",
    "from scipy.stats import ttest_ind\n",
    "import sklearn\n",
    "from sklearn.metrics import confusion_matrix\n",
    "import itertools"
   ]
  },
  {
   "cell_type": "code",
   "execution_count": 2,
   "metadata": {},
   "outputs": [],
   "source": [
    "# Read csv file that has been saved locally\n",
    "orders = pd.read_csv(\"C:/Users/Ben/Desktop/UNH Classes/Job Search/screening_exercise_orders_v201810.csv\")"
   ]
  },
  {
   "cell_type": "markdown",
   "metadata": {},
   "source": [
    "<h1>Question A:</h1>\n",
    "    <p> Assemble a dataframe with one row per customer and the following columns: </p>\n",
    "    <ul>\n",
    "    <li>customer_id</li>\n",
    "    <li>gender</li>\n",
    "    <li>most_recent_order_date</li>\n",
    "    <li>order_count (number of orders placed by this customer)</li>\n",
    "    </ul>\n",
    "   <p>Sort the dataframe by customer_id ascending and display the first 10 rows.</p>\n"
   ]
  },
  {
   "cell_type": "code",
   "execution_count": 3,
   "metadata": {
    "scrolled": true
   },
   "outputs": [
    {
     "data": {
      "text/html": [
       "<div>\n",
       "<style scoped>\n",
       "    .dataframe tbody tr th:only-of-type {\n",
       "        vertical-align: middle;\n",
       "    }\n",
       "\n",
       "    .dataframe tbody tr th {\n",
       "        vertical-align: top;\n",
       "    }\n",
       "\n",
       "    .dataframe thead th {\n",
       "        text-align: right;\n",
       "    }\n",
       "</style>\n",
       "<table border=\"1\" class=\"dataframe\">\n",
       "  <thead>\n",
       "    <tr style=\"text-align: right;\">\n",
       "      <th></th>\n",
       "      <th>customer_id</th>\n",
       "      <th>gender</th>\n",
       "      <th>most_recent_order_date</th>\n",
       "      <th>order_count</th>\n",
       "    </tr>\n",
       "  </thead>\n",
       "  <tbody>\n",
       "    <tr>\n",
       "      <th>0</th>\n",
       "      <td>1000</td>\n",
       "      <td>0</td>\n",
       "      <td>2017-01-01</td>\n",
       "      <td>1</td>\n",
       "    </tr>\n",
       "    <tr>\n",
       "      <th>1</th>\n",
       "      <td>1001</td>\n",
       "      <td>0</td>\n",
       "      <td>2017-01-01</td>\n",
       "      <td>1</td>\n",
       "    </tr>\n",
       "    <tr>\n",
       "      <th>2</th>\n",
       "      <td>1002</td>\n",
       "      <td>1</td>\n",
       "      <td>2017-02-19</td>\n",
       "      <td>3</td>\n",
       "    </tr>\n",
       "    <tr>\n",
       "      <th>3</th>\n",
       "      <td>1003</td>\n",
       "      <td>1</td>\n",
       "      <td>2017-04-26</td>\n",
       "      <td>4</td>\n",
       "    </tr>\n",
       "    <tr>\n",
       "      <th>4</th>\n",
       "      <td>1004</td>\n",
       "      <td>0</td>\n",
       "      <td>2017-01-01</td>\n",
       "      <td>1</td>\n",
       "    </tr>\n",
       "    <tr>\n",
       "      <th>5</th>\n",
       "      <td>1005</td>\n",
       "      <td>1</td>\n",
       "      <td>2017-12-16</td>\n",
       "      <td>2</td>\n",
       "    </tr>\n",
       "    <tr>\n",
       "      <th>6</th>\n",
       "      <td>1006</td>\n",
       "      <td>1</td>\n",
       "      <td>2017-05-09</td>\n",
       "      <td>3</td>\n",
       "    </tr>\n",
       "    <tr>\n",
       "      <th>7</th>\n",
       "      <td>1007</td>\n",
       "      <td>0</td>\n",
       "      <td>2017-01-01</td>\n",
       "      <td>1</td>\n",
       "    </tr>\n",
       "    <tr>\n",
       "      <th>8</th>\n",
       "      <td>1008</td>\n",
       "      <td>0</td>\n",
       "      <td>2017-12-17</td>\n",
       "      <td>3</td>\n",
       "    </tr>\n",
       "    <tr>\n",
       "      <th>9</th>\n",
       "      <td>1009</td>\n",
       "      <td>1</td>\n",
       "      <td>2017-01-01</td>\n",
       "      <td>1</td>\n",
       "    </tr>\n",
       "  </tbody>\n",
       "</table>\n",
       "</div>"
      ],
      "text/plain": [
       "   customer_id  gender most_recent_order_date  order_count\n",
       "0         1000       0             2017-01-01            1\n",
       "1         1001       0             2017-01-01            1\n",
       "2         1002       1             2017-02-19            3\n",
       "3         1003       1             2017-04-26            4\n",
       "4         1004       0             2017-01-01            1\n",
       "5         1005       1             2017-12-16            2\n",
       "6         1006       1             2017-05-09            3\n",
       "7         1007       0             2017-01-01            1\n",
       "8         1008       0             2017-12-17            3\n",
       "9         1009       1             2017-01-01            1"
      ]
     },
     "execution_count": 3,
     "metadata": {},
     "output_type": "execute_result"
    }
   ],
   "source": [
    "# Groupby to get count of orders per customer\n",
    "order_count = orders.groupby(['customer_id']).size().reset_index(name='order_count')\n",
    "\n",
    "# Grouby to get the most recent order date for each customer\n",
    "order_date = orders.groupby(by=['customer_id'])['date'].max().reset_index()\n",
    "\n",
    "# Convert date to pandas datetime, remove the time from the datetime, and rename column\n",
    "order_date['date'] = pd.to_datetime(order_date['date'])\n",
    "order_date['date'] = order_date['date'].dt.date\n",
    "order_date.columns = ['customer_id','most_recent_order_date']\n",
    "\n",
    "# Select the customer_id and gender columns\n",
    "order_gender = orders[['customer_id', 'gender']]\n",
    "# Voting system to choose the gender by most common gender value (mode) for each customer. Apply lambda function\n",
    "# This could also be used, if the actual gender column didn't exist, to select the gender from the most commonly predicted gender\n",
    "OG = pd.DataFrame(order_gender.groupby('customer_id').gender.apply(lambda x: x.mode()))\n",
    "\n",
    "# Left join order_date to order_count with customer_id as key\n",
    "join1 = pd.merge(order_count, order_date, how='left', on='customer_id')\n",
    "\n",
    "# Left join gender to the previous join with customer_id as key\n",
    "join2 = pd.merge(join1, OG, how='left', on='customer_id')\n",
    "\n",
    "# Make sure the dataframe is sorted by customer_id in ascending order\n",
    "answer_A = join2.sort_values('customer_id', ascending=True)\n",
    "# Reorder the columns\n",
    "answer_A = answer_A[['customer_id', 'gender', 'most_recent_order_date', 'order_count']]\n",
    "\n",
    "# Print the first 10 rows\n",
    "answer_A.head(10)"
   ]
  },
  {
   "cell_type": "markdown",
   "metadata": {},
   "source": [
    "<h1>Question B:</h1>\n",
    "    <p>Plot the count of orders per week.</p>"
   ]
  },
  {
   "cell_type": "code",
   "execution_count": 4,
   "metadata": {},
   "outputs": [
    {
     "data": {
      "text/html": [
       "<div>\n",
       "<style scoped>\n",
       "    .dataframe tbody tr th:only-of-type {\n",
       "        vertical-align: middle;\n",
       "    }\n",
       "\n",
       "    .dataframe tbody tr th {\n",
       "        vertical-align: top;\n",
       "    }\n",
       "\n",
       "    .dataframe thead th {\n",
       "        text-align: right;\n",
       "    }\n",
       "</style>\n",
       "<table border=\"1\" class=\"dataframe\">\n",
       "  <thead>\n",
       "    <tr style=\"text-align: right;\">\n",
       "      <th></th>\n",
       "      <th>order_count</th>\n",
       "    </tr>\n",
       "    <tr>\n",
       "      <th>week_starting</th>\n",
       "      <th></th>\n",
       "    </tr>\n",
       "  </thead>\n",
       "  <tbody>\n",
       "    <tr>\n",
       "      <th>2017-01-01</th>\n",
       "      <td>14</td>\n",
       "    </tr>\n",
       "    <tr>\n",
       "      <th>2017-01-08</th>\n",
       "      <td>180</td>\n",
       "    </tr>\n",
       "    <tr>\n",
       "      <th>2017-01-15</th>\n",
       "      <td>264</td>\n",
       "    </tr>\n",
       "    <tr>\n",
       "      <th>2017-01-22</th>\n",
       "      <td>405</td>\n",
       "    </tr>\n",
       "    <tr>\n",
       "      <th>2017-01-29</th>\n",
       "      <td>233</td>\n",
       "    </tr>\n",
       "  </tbody>\n",
       "</table>\n",
       "</div>"
      ],
      "text/plain": [
       "               order_count\n",
       "week_starting             \n",
       "2017-01-01              14\n",
       "2017-01-08             180\n",
       "2017-01-15             264\n",
       "2017-01-22             405\n",
       "2017-01-29             233"
      ]
     },
     "execution_count": 4,
     "metadata": {},
     "output_type": "execute_result"
    }
   ],
   "source": [
    "# Create a dataframe orders2 to start Question B\n",
    "orders2 = orders\n",
    "\n",
    "# Change date column to pandas datetime format\n",
    "orders2['date'] = pd.to_datetime(orders2['date'])\n",
    "\n",
    "# Drop the time from the date column\n",
    "orders2['date'] = orders2['date'].dt.date\n",
    "\n",
    "# Groupby date to get the number of orders per day\n",
    "order_count2 = orders2.groupby(['date']).size().reset_index(name='order_count')\n",
    "\n",
    "# Set the index as the date\n",
    "order_count2.set_index(pd.DatetimeIndex(order_count2['date']),inplace=True)\n",
    "\n",
    "# Drop the date column from within the dataframe since we have a date index\n",
    "order_count2 = order_count2.drop(['date'],axis=1)\n",
    "\n",
    "# Use resample to group index by week\n",
    "orders_by_week = order_count2.resample('W').sum()\n",
    "\n",
    "# Rename the index to reflect the week grouping\n",
    "orders_by_week = orders_by_week.rename_axis('week_starting')\n",
    "\n",
    "# Inspect the resulting dataframe\n",
    "orders_by_week.head()"
   ]
  },
  {
   "cell_type": "code",
   "execution_count": 5,
   "metadata": {},
   "outputs": [
    {
     "data": {
      "image/png": "[encoded data removed]",
      "text/plain": [
       "<Figure size 1080x504 with 1 Axes>"
      ]
     },
     "metadata": {
      "needs_background": "light"
     },
     "output_type": "display_data"
    }
   ],
   "source": [
    "# Initialize matplotlib and set size of plot\n",
    "fig, ax = plt.subplots(figsize=(15,7))\n",
    "\n",
    "# Set the type of plot to bar chart\n",
    "orders_by_week.plot(kind = 'bar', ax=ax)\n",
    "\n",
    "# Set the title\n",
    "ax.set_title('Weekly Orders, 2017')\n",
    "\n",
    "# Format the X-axis tick marks and labels\n",
    "plt.gca().xaxis.set_major_formatter(plt.FixedFormatter(orders_by_week.index.to_series().dt.strftime(\"%d %b\")))\n",
    "\n",
    "# Adjust the label rotation and label size as well as the tick mark size for X-axis\n",
    "ax.xaxis.set_tick_params(rotation=80, labelsize=10, size=10)\n"
   ]
  },
  {
   "cell_type": "markdown",
   "metadata": {},
   "source": [
    "<h1>Question C:</h1>\n",
    "    <p>Compute the mean order value for gender 0 and for gender 1. Do you think the difference is significant?</p>\n",
    "    "
   ]
  },
  {
   "cell_type": "code",
   "execution_count": 6,
   "metadata": {},
   "outputs": [
    {
     "name": "stdout",
     "output_type": "stream",
     "text": [
      "The mean order-value for gender 0 is $363.89.\n",
      "The mean order-value for gender 1 is $350.71.\n"
     ]
    }
   ],
   "source": [
    "# Create a dataframe orders2 to start Question C\n",
    "orders3 = orders\n",
    "\n",
    "\n",
    "gen_0 = orders3[orders3['gender'] == 0]\n",
    "gen_0_ave = round((sum(gen_0['value']))/(len(gen_0)),2)\n",
    "print(\"The mean order-value for gender 0 is $\" + str(gen_0_ave) + \".\")\n",
    "\n",
    "gen_1 = orders3[orders3['gender'] == 1]\n",
    "gen_1_ave = round((sum(gen_1['value']))/(len(gen_1)),2)\n",
    "print(\"The mean order-value for gender 1 is $\" + str(gen_1_ave) + \".\")\n",
    "\n"
   ]
  },
  {
   "cell_type": "markdown",
   "metadata": {},
   "source": [
    "<p>Although the question doesn't explicitly ask for <i><b>statistical</b></i> significance, I will perform a 2 sample (Welch's) t-test as a standard method of checking for a difference between two populations.</p>\n",
    "<h4>Null Hypothesis: Gender 0 and Gender 1 spend the same amount per order.</h4>\n",
    "<h4>Alternate Hypothesis: Gender 0 and Gender 1 spend different amounts per order.</h4>"
   ]
  },
  {
   "cell_type": "code",
   "execution_count": 7,
   "metadata": {},
   "outputs": [
    {
     "data": {
      "text/plain": [
       "Ttest_indResult(statistic=1.976107933576866, pvalue=0.04816296295128402)"
      ]
     },
     "execution_count": 7,
     "metadata": {},
     "output_type": "execute_result"
    }
   ],
   "source": [
    "# Use scipy stats to perform Welch's t-test\n",
    "scipy.stats.ttest_ind(gen_0['value'], gen_1['value'], equal_var=False)"
   ]
  },
  {
   "cell_type": "markdown",
   "metadata": {},
   "source": [
    "<p>The <b>p-value</b> of <b>0.04816</b> is just under the traditional alpha level of <b>0.05</b> used to reject a null hypothesis. However, use of this alpha level has come under extreme scrutiny in recent years and has been cited as contributing factor for the <i><b>Reproducibility Crisis</b></i> in traditional statistics. Therefore, I will note that there is <b>weak evidence</b> of a difference between the populations but <b>will not reject the null hypothesis in favor of the alternative</b>. To directly answer the question asked, I would <i><b>not</b></i> say the difference is significant.</p>"
   ]
  },
  {
   "cell_type": "markdown",
   "metadata": {},
   "source": [
    "<h1>Question D:</h1>\n",
    "    <p>Assuming a single gender prediction was made for each customer, generate a confusion matrix for predicted gender. What does the confusion matrix tell you about the quality of the predictions?</p>\n",
    "    "
   ]
  },
  {
   "cell_type": "code",
   "execution_count": 8,
   "metadata": {},
   "outputs": [
    {
     "name": "stdout",
     "output_type": "stream",
     "text": [
      "Confusion matrix, without normalization\n",
      "[[2189 2218]\n",
      " [ 895 3512]]\n"
     ]
    },
    {
     "data": {
      "image/png": "[encoded data removed]",
      "text/plain": [
       "<Figure size 432x288 with 2 Axes>"
      ]
     },
     "metadata": {
      "needs_background": "light"
     },
     "output_type": "display_data"
    },
    {
     "name": "stdout",
     "output_type": "stream",
     "text": [
      "The accuracy of the model is: 0.6468\n",
      "The misclassification rate of the model is: 0.3532\n",
      "The true positive rate or recall of the model is: 0.7969\n",
      "The false positive rate of the model is: 0.5033\n",
      "The true negative rate or specificity of the model is: 0.4967\n",
      "The precision of the model is: 0.6129\n",
      "The prevalence of the model is: 0.6501\n"
     ]
    }
   ],
   "source": [
    "# Define a function for plotting a confusion matrix\n",
    "def plot_confusion_matrix(cm, classes,\n",
    "                          normalize=False,\n",
    "                          title='Confusion Matrix',\n",
    "                          cmap=plt.cm.Blues):\n",
    "    \"\"\"\n",
    "    This function prints and plots the confusion matrix.\n",
    "    Normalization can be applied by setting `normalize=True`.\n",
    "    \"\"\"\n",
    "    if normalize:\n",
    "        cm = cm.astype('float') / cm.sum(axis=1)[:, np.newaxis]\n",
    "        print(\"Normalized confusion matrix\")\n",
    "    else:\n",
    "        print('Confusion matrix, without normalization')\n",
    "\n",
    "    print(cm)\n",
    "\n",
    "    plt.imshow(cm, interpolation='nearest', cmap=cmap)\n",
    "    plt.title(title)\n",
    "    plt.colorbar()\n",
    "    tick_marks = np.arange(len(classes))\n",
    "    plt.xticks(tick_marks, classes, rotation=45)\n",
    "    plt.yticks(tick_marks, classes)\n",
    "\n",
    "    fmt = '.2f' if normalize else 'd'\n",
    "    thresh = cm.max() / 2.\n",
    "    for i, j in itertools.product(range(cm.shape[0]), range(cm.shape[1])):\n",
    "        plt.text(j, i, format(cm[i, j], fmt),\n",
    "                 horizontalalignment=\"center\",\n",
    "                 color=\"white\" if cm[i, j] > thresh else \"black\")\n",
    "\n",
    "    plt.ylabel('True label')\n",
    "    plt.xlabel('Predicted label')\n",
    "    plt.tight_layout()\n",
    "\n",
    "# Use groupby to limit rows to one row for every customer_id with the customers' actual gender\n",
    "order_genders = pd.DataFrame(orders.groupby(['customer_id'])['gender'].first()).reset_index()\n",
    "\n",
    "# Voting system to select the most commonly predicted gender (mode) for each customer. Apply lambda function\n",
    "pred_genders = pd.DataFrame(orders.groupby('customer_id').predicted_gender.apply(lambda x: x.mode()))\n",
    "\n",
    "#Left join predicted genders to actual genders\n",
    "merg = pd.merge(order_genders, pred_genders, how='left', on='customer_id')\n",
    "\n",
    "cnf_matrix = confusion_matrix(merg['gender'],merg['predicted_gender'])\n",
    "\n",
    "plt.figure()\n",
    "plot_confusion_matrix(cnf_matrix, classes=['gender_0','gender_1'], title='Confusion Matrix')\n",
    "plt.show()\n",
    "\n",
    "# Calculations outsided of confusion matrix function\n",
    "TP = len(merg[(merg['gender'] == 1) & (merg['predicted_gender'] == 1)])\n",
    "FP = len(merg[(merg['gender'] == 0) & (merg['predicted_gender'] == 1)])\n",
    "TN = len(merg[(merg['gender'] == 0) & (merg['predicted_gender'] == 0)])\n",
    "FN = len(merg[(merg['gender'] == 1) & (merg['predicted_gender'] == 0)])\n",
    "print(\"The accuracy of the model is: \" + str(round((TP+TN)/(TP+FP+TN+FN),4)))\n",
    "print(\"The misclassification rate of the model is: \" + str(round((FP+FN)/(TP+FP+TN+FN),4)))\n",
    "print(\"The true positive rate or recall of the model is: \" + str(round(TP/(len(merg[(merg['gender'] == 1)])),4)))\n",
    "print(\"The false positive rate of the model is: \" + str(round(FP/(len(merg[(merg['gender'] == 0)])),4)))\n",
    "print(\"The true negative rate or specificity of the model is: \" + str(round(TN/(len(merg[(merg['gender'] == 0)])),4)))\n",
    "print(\"The precision of the model is: \" + str(round(TP/(len(merg[(merg['predicted_gender'] == 1)])),4)))\n",
    "print(\"The prevalence of the model is: \" + str(round((len(merg[(merg['predicted_gender'] == 1)]))/(TP+FP+TN+FN),4)))"
   ]
  },
  {
   "cell_type": "markdown",
   "metadata": {},
   "source": [
    "<p>We can look at the confusion matrix and to related metrics in order to evaluate the quality of predictions of a classification model. In this case, which doesn't have an actual positive or negative test result (genders are neither positive nor negative), we will arbitrarily refer to <b>gender 0</b> as <b>negative</b> and <b>gender 1</b> as <b>positive</b>.</p>\n",
    "<p> The confusion matrix has four sections: the uppper left represents true negatives, the lower left represents false negatives, the upper right represents false positives, and the lower right represents true positives.</p>\n",
    "<p>We are able to see that the model performs poorly overall. The overall accuracy, while marginally better than flipping a coin, is only about 65% accurate and should not be used in production. The various other rates inform us how well the model performed in relation to actual vs. predicted values. For instance, recall shows how often the model predicted gender 1 when the value was actually gender 1. Recall was the least problematic area for these predictions reaching about 80%. Aside from recall, the measures all tell us that the quality of the predictions is unreliable.</p>"
   ]
  },
  {
   "cell_type": "markdown",
   "metadata": {},
   "source": [
    "<h1>Question E:</h1>\n",
    "<p>Describe one of your favorite tools or techniques and give a small example of how it's helped you solve a problem. Limit your answer to one paragraph.</p>\n",
    "\n",
    "One of my favorite tools for data science is the Scikit-learn machine learning library. I am grateful for the work that people have put into the project. It's incredible how many algorithms and preprocessing tools are available and how well documented they are. I realize that data science must make progress by abstracting away lower levels of programming. This allows machine learning tasks to be processed at a much faster rate--focusing on the problems at hand rather than recoding something that's been done hundreds or thousands of times before. An example of how I have used Scikit-learn is for topic modeling with Latent Dirichlet Allocation (LDA) on the Enron email corpus. While I did research how LDA works, having the algorithm available on Scikit-learn saved me dozens of hours of debugging. Helping me get to the final product much faster. "
   ]
  },
  {
   "cell_type": "markdown",
   "metadata": {},
   "source": [
    "# PK's feedback: \n",
    "\n",
    "It's ok to use different variables while figuring out the problem, but I should reuse variables when I send the code for a job application so I don't store extra variables in memory.\n",
    "\n",
    "For the statistical significance question, maybe use a practical significance as well as a statistical significance. Absolute difference...\n",
    "\n",
    "PK noticed a clear difference in the comments for the confusion matrix. He said it was obvious that I copied (from sklearn docs) that since there were no comments. I should have added comments in the other parts. It can seem like I don't understand that part of the code.\n",
    "\n",
    "Use a label for the Y variable for the matplotlib bar chart. \n",
    "\n",
    "USE BETTER VARIABLE NAMES"
   ]
  },
  {
   "cell_type": "code",
   "execution_count": null,
   "metadata": {},
   "outputs": [],
   "source": []
  }
 ],
 "metadata": {
  "kernelspec": {
   "display_name": "Python 3",
   "language": "python",
   "name": "python3"
  },
  "language_info": {
   "codemirror_mode": {
    "name": "ipython",
    "version": 3
   },
   "file_extension": ".py",
   "mimetype": "text/x-python",
   "name": "python",
   "nbconvert_exporter": "python",
   "pygments_lexer": "ipython3",
   "version": "3.6.6"
  }
 },
 "nbformat": 4,
 "nbformat_minor": 2
}
